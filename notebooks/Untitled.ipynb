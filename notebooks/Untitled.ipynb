{
 "cells": [
  {
   "cell_type": "code",
   "execution_count": 1,
   "id": "c4268c87-cb21-4ebf-ad88-b5f61654047d",
   "metadata": {},
   "outputs": [],
   "source": [
    "# https://stackoverflow.com/questions/49264194/import-py-file-in-another-directory-in-jupyter-notebook\n",
    "import os\n",
    "import sys\n",
    "\n",
    "# Build an absolute path from this notebook's parent directory\n",
    "module_path = os.path.abspath(os.path.join('..', 'nhls_py'))\n",
    "\n",
    "# Add to sys.path if not already present\n",
    "if module_path not in sys.path:\n",
    "    sys.path.append(module_path)\n",
    "\n",
    "# Now you can import the desired function or class\n",
    "import nhls_py\n"
   ]
  },
  {
   "cell_type": "code",
   "execution_count": 2,
   "id": "6533d4e0-ad05-4625-8b98-cc529815ea66",
   "metadata": {},
   "outputs": [
    {
     "data": {
      "text/plain": [
       "<module 'nhls_py' from '/Users/russell/projects/stencil_research/nhls_py/nhls_py/__init__.py'>"
      ]
     },
     "execution_count": 2,
     "metadata": {},
     "output_type": "execute_result"
    }
   ],
   "source": [
    "nhls_py"
   ]
  },
  {
   "cell_type": "code",
   "execution_count": 3,
   "id": "a99e21f6-b6f5-4092-8a89-296654f09b89",
   "metadata": {},
   "outputs": [
    {
     "name": "stdout",
     "output_type": "stream",
     "text": [
      "Hello World\n"
     ]
    }
   ],
   "source": [
    "nhls_py.session_init()"
   ]
  },
  {
   "cell_type": "code",
   "execution_count": null,
   "id": "e529ea80-85af-497a-b5ab-9521d0a01394",
   "metadata": {},
   "outputs": [],
   "source": []
  }
 ],
 "metadata": {
  "kernelspec": {
   "display_name": "Python 3 (ipykernel)",
   "language": "python",
   "name": "python3"
  },
  "language_info": {
   "codemirror_mode": {
    "name": "ipython",
    "version": 3
   },
   "file_extension": ".py",
   "mimetype": "text/x-python",
   "name": "python",
   "nbconvert_exporter": "python",
   "pygments_lexer": "ipython3",
   "version": "3.10.15"
  }
 },
 "nbformat": 4,
 "nbformat_minor": 5
}
